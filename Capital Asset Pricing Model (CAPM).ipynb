{
 "cells": [
  {
   "cell_type": "code",
   "execution_count": 8,
   "id": "d9edee65",
   "metadata": {},
   "outputs": [],
   "source": [
    "import numpy as np\n",
    "import pandas as pd\n",
    "from pandas_datareader import data as wb\n",
    "\n",
    "tickers = ['AAPL', '^GSPC']\n",
    "data = pd.DataFrame()\n",
    "for t in tickers:\n",
    "    data[t] = wb.DataReader(t, data_source = 'yahoo', start='2012-1-1', end='2020-12-31')['Adj Close']"
   ]
  },
  {
   "cell_type": "code",
   "execution_count": 9,
   "id": "ef32935d",
   "metadata": {},
   "outputs": [],
   "source": [
    "sec_returns = np.log( data / data.shift(1))"
   ]
  },
  {
   "cell_type": "code",
   "execution_count": 10,
   "id": "8d4b9159",
   "metadata": {},
   "outputs": [
    {
     "data": {
      "text/html": [
       "<div>\n",
       "<style scoped>\n",
       "    .dataframe tbody tr th:only-of-type {\n",
       "        vertical-align: middle;\n",
       "    }\n",
       "\n",
       "    .dataframe tbody tr th {\n",
       "        vertical-align: top;\n",
       "    }\n",
       "\n",
       "    .dataframe thead th {\n",
       "        text-align: right;\n",
       "    }\n",
       "</style>\n",
       "<table border=\"1\" class=\"dataframe\">\n",
       "  <thead>\n",
       "    <tr style=\"text-align: right;\">\n",
       "      <th></th>\n",
       "      <th>AAPL</th>\n",
       "      <th>^GSPC</th>\n",
       "    </tr>\n",
       "  </thead>\n",
       "  <tbody>\n",
       "    <tr>\n",
       "      <th>AAPL</th>\n",
       "      <td>0.081942</td>\n",
       "      <td>0.031516</td>\n",
       "    </tr>\n",
       "    <tr>\n",
       "      <th>^GSPC</th>\n",
       "      <td>0.031516</td>\n",
       "      <td>0.027808</td>\n",
       "    </tr>\n",
       "  </tbody>\n",
       "</table>\n",
       "</div>"
      ],
      "text/plain": [
       "           AAPL     ^GSPC\n",
       "AAPL   0.081942  0.031516\n",
       "^GSPC  0.031516  0.027808"
      ]
     },
     "execution_count": 10,
     "metadata": {},
     "output_type": "execute_result"
    }
   ],
   "source": [
    "cov = sec_returns.cov() * 250\n",
    "cov"
   ]
  },
  {
   "cell_type": "code",
   "execution_count": 14,
   "id": "e67724bc",
   "metadata": {},
   "outputs": [
    {
     "data": {
      "text/plain": [
       "0.031516425901206416"
      ]
     },
     "execution_count": 14,
     "metadata": {},
     "output_type": "execute_result"
    }
   ],
   "source": [
    "cov_with_market = cov.iloc[0,1]\n",
    "cov_with_market\n",
    "#this is the numerator for beta"
   ]
  },
  {
   "cell_type": "code",
   "execution_count": 15,
   "id": "6d145746",
   "metadata": {},
   "outputs": [
    {
     "data": {
      "text/plain": [
       "0.027808463482710353"
      ]
     },
     "execution_count": 15,
     "metadata": {},
     "output_type": "execute_result"
    }
   ],
   "source": [
    "market_var = sec_returns['^GSPC'].var() * 250\n",
    "market_var  #this is the denominator for beta"
   ]
  },
  {
   "cell_type": "code",
   "execution_count": 17,
   "id": "5b79aa28",
   "metadata": {},
   "outputs": [
    {
     "data": {
      "text/plain": [
       "1.1333393490367223"
      ]
     },
     "execution_count": 17,
     "metadata": {},
     "output_type": "execute_result"
    }
   ],
   "source": [
    "AAPL_beta = cov_with_market / market_var\n",
    "AAPL_beta"
   ]
  },
  {
   "cell_type": "markdown",
   "id": "9f2e9b63",
   "metadata": {},
   "source": [
    "The beta for Apple is >1 therefore it is an offensive stock. It will outperform the market in times of growth and do worse than the market during recessions."
   ]
  },
  {
   "cell_type": "code",
   "execution_count": 19,
   "id": "bbb7b8d1",
   "metadata": {},
   "outputs": [
    {
     "data": {
      "text/plain": [
       "0.08166696745183612"
      ]
     },
     "execution_count": 19,
     "metadata": {},
     "output_type": "execute_result"
    }
   ],
   "source": [
    "AAPL_expected_return = 0.025 + AAPL_beta * 0.05  #risk free rate from US 10 year gov bond\n",
    "AAPL_expected_return"
   ]
  },
  {
   "cell_type": "code",
   "execution_count": 22,
   "id": "0edf596f",
   "metadata": {},
   "outputs": [
    {
     "data": {
      "text/plain": [
       "0.19795929080074298"
      ]
     },
     "execution_count": 22,
     "metadata": {},
     "output_type": "execute_result"
    }
   ],
   "source": [
    "#calc Sharpe ratio\n",
    "Sharpe = (AAPL_expected_return - 0.025) / (sec_returns['AAPL'].std() * 250 **.5)\n",
    "Sharpe"
   ]
  },
  {
   "cell_type": "code",
   "execution_count": null,
   "id": "6b6d03ae",
   "metadata": {},
   "outputs": [],
   "source": []
  }
 ],
 "metadata": {
  "kernelspec": {
   "display_name": "Python 3",
   "language": "python",
   "name": "python3"
  },
  "language_info": {
   "codemirror_mode": {
    "name": "ipython",
    "version": 3
   },
   "file_extension": ".py",
   "mimetype": "text/x-python",
   "name": "python",
   "nbconvert_exporter": "python",
   "pygments_lexer": "ipython3",
   "version": "3.8.8"
  }
 },
 "nbformat": 4,
 "nbformat_minor": 5
}
